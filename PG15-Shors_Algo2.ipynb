{
  "cells": [
    {
      "cell_type": "markdown",
      "metadata": {
        "colab_type": "text",
        "id": "view-in-github"
      },
      "source": [
        "<a href=\"https://colab.research.google.com/github/smaranjitghose/quantum_burglary/blob/master/quantum_burglary.ipynb\" target=\"_parent\"><img src=\"https://colab.research.google.com/assets/colab-badge.svg\" alt=\"Open In Colab\"/></a>"
      ]
    },
    {
      "cell_type": "markdown",
      "metadata": {
        "colab_type": "text",
        "id": "XM4O4HS4DQxc"
      },
      "source": [
        "# Getting our dependecies"
      ]
    },
    {
      "cell_type": "code",
      "execution_count": 10,
      "metadata": {
        "colab": {
          "base_uri": "https://localhost:8080/",
          "height": 1000
        },
        "colab_type": "code",
        "id": "lHfSbv8TDXFn",
        "outputId": "42cb4caa-ead5-43f5-a54b-d4714d80aabb"
      },
      "outputs": [
        {
          "name": "stdout",
          "output_type": "stream",
          "text": [
            "Note: you may need to restart the kernel to use updated packages.\n",
            "Requirement already satisfied: qiskit in c:\\users\\acer\\appdata\\local\\packages\\pythonsoftwarefoundation.python.3.11_qbz5n2kfra8p0\\localcache\\local-packages\\python311\\site-packages (1.2.2)\n",
            "Requirement already satisfied: rustworkx>=0.15.0 in c:\\users\\acer\\appdata\\local\\packages\\pythonsoftwarefoundation.python.3.11_qbz5n2kfra8p0\\localcache\\local-packages\\python311\\site-packages (from qiskit) (0.15.1)\n",
            "Requirement already satisfied: numpy<3,>=1.17 in c:\\users\\acer\\appdata\\local\\packages\\pythonsoftwarefoundation.python.3.11_qbz5n2kfra8p0\\localcache\\local-packages\\python311\\site-packages (from qiskit) (2.1.1)\n",
            "Requirement already satisfied: scipy>=1.5 in c:\\users\\acer\\appdata\\local\\packages\\pythonsoftwarefoundation.python.3.11_qbz5n2kfra8p0\\localcache\\local-packages\\python311\\site-packages (from qiskit) (1.14.1)\n",
            "Requirement already satisfied: sympy>=1.3 in c:\\users\\acer\\appdata\\local\\packages\\pythonsoftwarefoundation.python.3.11_qbz5n2kfra8p0\\localcache\\local-packages\\python311\\site-packages (from qiskit) (1.13.3)\n",
            "Requirement already satisfied: dill>=0.3 in c:\\users\\acer\\appdata\\local\\packages\\pythonsoftwarefoundation.python.3.11_qbz5n2kfra8p0\\localcache\\local-packages\\python311\\site-packages (from qiskit) (0.3.8)\n",
            "Requirement already satisfied: python-dateutil>=2.8.0 in c:\\users\\acer\\appdata\\local\\packages\\pythonsoftwarefoundation.python.3.11_qbz5n2kfra8p0\\localcache\\local-packages\\python311\\site-packages (from qiskit) (2.9.0.post0)\n",
            "Requirement already satisfied: stevedore>=3.0.0 in c:\\users\\acer\\appdata\\local\\packages\\pythonsoftwarefoundation.python.3.11_qbz5n2kfra8p0\\localcache\\local-packages\\python311\\site-packages (from qiskit) (5.3.0)\n",
            "Requirement already satisfied: typing-extensions in c:\\users\\acer\\appdata\\local\\packages\\pythonsoftwarefoundation.python.3.11_qbz5n2kfra8p0\\localcache\\local-packages\\python311\\site-packages (from qiskit) (4.12.2)\n",
            "Requirement already satisfied: symengine>=0.11 in c:\\users\\acer\\appdata\\local\\packages\\pythonsoftwarefoundation.python.3.11_qbz5n2kfra8p0\\localcache\\local-packages\\python311\\site-packages (from qiskit) (0.11.0)\n",
            "Requirement already satisfied: six>=1.5 in c:\\users\\acer\\appdata\\local\\packages\\pythonsoftwarefoundation.python.3.11_qbz5n2kfra8p0\\localcache\\local-packages\\python311\\site-packages (from python-dateutil>=2.8.0->qiskit) (1.16.0)\n",
            "Requirement already satisfied: pbr>=2.0.0 in c:\\users\\acer\\appdata\\local\\packages\\pythonsoftwarefoundation.python.3.11_qbz5n2kfra8p0\\localcache\\local-packages\\python311\\site-packages (from stevedore>=3.0.0->qiskit) (6.1.0)\n",
            "Requirement already satisfied: mpmath<1.4,>=1.1.0 in c:\\users\\acer\\appdata\\local\\packages\\pythonsoftwarefoundation.python.3.11_qbz5n2kfra8p0\\localcache\\local-packages\\python311\\site-packages (from sympy>=1.3->qiskit) (1.3.0)\n"
          ]
        },
        {
          "name": "stderr",
          "output_type": "stream",
          "text": [
            "\n",
            "[notice] A new release of pip is available: 24.0 -> 24.2\n",
            "[notice] To update, run: C:\\Users\\Acer\\AppData\\Local\\Microsoft\\WindowsApps\\PythonSoftwareFoundation.Python.3.11_qbz5n2kfra8p0\\python.exe -m pip install --upgrade pip\n"
          ]
        },
        {
          "name": "stdout",
          "output_type": "stream",
          "text": [
            "Collecting rsa_python\n",
            "  Downloading rsa_python-0.1.1-py3-none-any.whl.metadata (1.2 kB)\n",
            "Downloading rsa_python-0.1.1-py3-none-any.whl (3.4 kB)\n",
            "Installing collected packages: rsa_python\n",
            "Successfully installed rsa_python-0.1.1\n",
            "Note: you may need to restart the kernel to use updated packages.\n"
          ]
        },
        {
          "name": "stderr",
          "output_type": "stream",
          "text": [
            "\n",
            "[notice] A new release of pip is available: 24.0 -> 24.2\n",
            "[notice] To update, run: C:\\Users\\Acer\\AppData\\Local\\Microsoft\\WindowsApps\\PythonSoftwareFoundation.Python.3.11_qbz5n2kfra8p0\\python.exe -m pip install --upgrade pip\n"
          ]
        }
      ],
      "source": [
        "%pip install qiskit\n",
        "%pip install rsa_python\n"
      ]
    },
    {
      "cell_type": "code",
      "execution_count": 10,
      "metadata": {
        "colab": {},
        "colab_type": "code",
        "id": "qhTH5zinDQxh"
      },
      "outputs": [],
      "source": [
        "import numpy as np\n",
        "from qiskit import *\n",
        "from math import sqrt,log,gcd\n",
        "import random\n",
        "from random import randint\n",
        "import rsa"
      ]
    },
    {
      "cell_type": "markdown",
      "metadata": {
        "colab_type": "text",
        "id": "0muwWXfSDQxo"
      },
      "source": [
        "# Lets make our RSA Algorithm\n",
        "\n",
        "![flow-chart](https://i.ytimg.com/vi/-jSX9fNJiN8/maxresdefault.jpg)"
      ]
    },
    {
      "cell_type": "markdown",
      "metadata": {
        "colab_type": "text",
        "id": "UqpvahZnDQxq"
      },
      "source": [
        "#### Calculating Modular  Inverse"
      ]
    },
    {
      "cell_type": "code",
      "execution_count": 4,
      "metadata": {
        "colab": {},
        "colab_type": "code",
        "id": "zZ4FIDGgDQxr"
      },
      "outputs": [],
      "source": [
        "def mod_inverse(a, m):\n",
        "    for x in range(1, m):\n",
        "        if (a * x) % m == 1:\n",
        "            return x\n",
        "    return -1"
      ]
    },
    {
      "cell_type": "markdown",
      "metadata": {
        "colab_type": "text",
        "id": "2sf25-WVDQxx"
      },
      "source": [
        "#### Checking for primality"
      ]
    },
    {
      "cell_type": "code",
      "execution_count": 5,
      "metadata": {
        "colab": {},
        "colab_type": "code",
        "id": "Fqx1BFHZDQxy"
      },
      "outputs": [],
      "source": [
        "def isprime(n):\n",
        "    if n < 2:\n",
        "        return False\n",
        "    elif n == 2:\n",
        "        return True\n",
        "    else:\n",
        "        for i in range(1, int(sqrt(n)) + 1):\n",
        "            if n % i == 0:\n",
        "                return False\n",
        "    return True"
      ]
    },
    {
      "cell_type": "markdown",
      "metadata": {
        "colab_type": "text",
        "id": "7-KQY7NIDQx1"
      },
      "source": [
        "## Generating Key Value Pairs"
      ]
    },
    {
      "cell_type": "code",
      "execution_count": 6,
      "metadata": {
        "colab": {},
        "colab_type": "code",
        "id": "cJfaefmDDQx2"
      },
      "outputs": [],
      "source": [
        "def generate_keypair(keysize):\n",
        "    p = randint(1, 1000)\n",
        "    q = randint(1, 1000)\n",
        "    nMin = 1 << (keysize - 1)\n",
        "    nMax = (1 << keysize) - 1\n",
        "    primes = [2]\n",
        "    start = 1 << (keysize // 2 - 1)\n",
        "    stop = 1 << (keysize // 2 + 1)\n",
        "    if start >= stop:\n",
        "        return []\n",
        "    for i in range(3, stop + 1, 2):\n",
        "        for p in primes:\n",
        "            if i % p == 0:\n",
        "                break\n",
        "        else:\n",
        "            primes.append(i)\n",
        "    while (primes and primes[0] < start):\n",
        "        del primes[0]\n",
        "    # Select two random prime numbers p and q\n",
        "    while primes:\n",
        "        p = random.choice(primes)\n",
        "        primes.remove(p)\n",
        "        q_values = [q for q in primes if nMin <= p * q <= nMax]\n",
        "        if q_values:\n",
        "            q = random.choice(q_values)\n",
        "            break\n",
        "    # Calculate n\n",
        "    n = p * q\n",
        "    # Calculate phi\n",
        "    phi = (p - 1) * (q - 1)\n",
        "    # Select e\n",
        "    e = random.randrange(1, phi)\n",
        "    g = gcd(e, phi)\n",
        "    # Calculate d\n",
        "    while True:\n",
        "        e = random.randrange(1, phi)\n",
        "        g = gcd(e, phi)\n",
        "        d = mod_inverse(e, phi)\n",
        "        if g == 1 and e != d:\n",
        "            break\n",
        "\n",
        "    return ((e, n), (d, n))"
      ]
    },
    {
      "cell_type": "markdown",
      "metadata": {
        "colab_type": "text",
        "id": "g4frYTkJDQx6"
      },
      "source": [
        "## Encryption Step"
      ]
    },
    {
      "cell_type": "code",
      "execution_count": 7,
      "metadata": {
        "colab": {},
        "colab_type": "code",
        "id": "z2tcwc9EDQx7"
      },
      "outputs": [],
      "source": [
        "def encrypt(plaintext, package):\n",
        "    e, n = package\n",
        "    ciphertext = [pow(ord(c), e, n) for c in plaintext]\n",
        "    return ''.join(map(lambda x: str(x), ciphertext)), ciphertext"
      ]
    },
    {
      "cell_type": "markdown",
      "metadata": {
        "colab_type": "text",
        "id": "ipCW0Sg6DQx-"
      },
      "source": [
        "## Decryption Step"
      ]
    },
    {
      "cell_type": "code",
      "execution_count": 8,
      "metadata": {
        "colab": {},
        "colab_type": "code",
        "id": "BwUiLjF_DQx-"
      },
      "outputs": [],
      "source": [
        "def decrypt(ciphertext, package):\n",
        "    d, n = package\n",
        "    plaintext = [chr(pow(c, d, n)) for c in ciphertext]\n",
        "    return (''.join(plaintext))"
      ]
    },
    {
      "cell_type": "markdown",
      "metadata": {
        "colab_type": "text",
        "id": "VHS2O4DgDQyC"
      },
      "source": [
        "# Now lets test with a sample message"
      ]
    },
    {
      "cell_type": "markdown",
      "metadata": {
        "colab_type": "text",
        "id": "lO2ji54kDQyC"
      },
      "source": [
        "#### Generate Keys"
      ]
    },
    {
      "cell_type": "code",
      "execution_count": null,
      "metadata": {
        "colab": {},
        "colab_type": "code",
        "id": "7E1abRK8DQyD",
        "outputId": "13fc2fb4-f874-4346-e949-f28ecf7affde"
      },
      "outputs": [],
      "source": [
        "import rsa\n",
        "import rsa_python\n",
        "bit_length = int(input(\"Enter bit length: \"))\n",
        "\n",
        "public_k, private_k = generate_keypair(2**bit_length)"
      ]
    },
    {
      "cell_type": "markdown",
      "metadata": {
        "colab_type": "text",
        "id": "_wP53v_cDQyG"
      },
      "source": [
        "#### Encryption"
      ]
    },
    {
      "cell_type": "code",
      "execution_count": null,
      "metadata": {
        "colab": {},
        "colab_type": "code",
        "id": "aL2Qsf8_DQyG",
        "outputId": "668a338a-7858-43f9-ce75-7e60c3870b7b"
      },
      "outputs": [],
      "source": [
        "plain_txt = input(\"Enter a message: \")\n",
        "cipher_txt, cipher_obj = encrypt(plain_txt, public_k)\n",
        "\n",
        "print(\"Encrypted message: {}\".format(cipher_txt))"
      ]
    },
    {
      "cell_type": "markdown",
      "metadata": {
        "colab_type": "text",
        "id": "3cVvdxFVDQyJ"
      },
      "source": [
        "#### Decryption"
      ]
    },
    {
      "cell_type": "code",
      "execution_count": null,
      "metadata": {
        "colab": {},
        "colab_type": "code",
        "id": "EAtM7i5EDQyK",
        "outputId": "89d591d9-4400-439f-9352-9bcfd89c3977"
      },
      "outputs": [],
      "source": [
        "print(\"Decrypted message: {}\".format(decrypt(cipher_obj, private_k)))"
      ]
    },
    {
      "cell_type": "markdown",
      "metadata": {
        "colab_type": "text",
        "id": "aoEW_z2KDQyO"
      },
      "source": [
        "## Now lets frame Shor's Algorithm"
      ]
    },
    {
      "cell_type": "code",
      "execution_count": null,
      "metadata": {
        "colab": {},
        "colab_type": "code",
        "id": "fh77fgefDQyP"
      },
      "outputs": [],
      "source": [
        "qasm_sim = qiskit.Aer.get_backend('qasm_simulator')\n",
        "def period(a,N):\n",
        "    \n",
        "    available_qubits = 16 \n",
        "    r=-1   \n",
        "    \n",
        "    if N >= 2**available_qubits:\n",
        "        print(str(N)+' is too big for IBMQX')\n",
        "    \n",
        "    qr = QuantumRegister(available_qubits)   \n",
        "    cr = ClassicalRegister(available_qubits)\n",
        "    qc = QuantumCircuit(qr,cr)\n",
        "    x0 = randint(1, N-1) \n",
        "    x_binary = np.zeros(available_qubits, dtype=bool)\n",
        "    \n",
        "    for i in range(1, available_qubits + 1):\n",
        "        bit_state = (N%(2**i)!=0)\n",
        "        if bit_state:\n",
        "            N -= 2**(i-1)\n",
        "        x_binary[available_qubits-i] = bit_state    \n",
        "    \n",
        "    for i in range(0,available_qubits):\n",
        "        if x_binary[available_qubits-i-1]:\n",
        "            qc.x(qr[i])\n",
        "    x = x0\n",
        "    \n",
        "    while np.logical_or(x != x0, r <= 0):\n",
        "        r+=1\n",
        "        qc.measure(qr, cr) \n",
        "        for i in range(0,3): \n",
        "            qc.x(qr[i])\n",
        "        qc.cx(qr[2],qr[1])\n",
        "        qc.cx(qr[1],qr[2])\n",
        "        qc.cx(qr[2],qr[1])\n",
        "        qc.cx(qr[1],qr[0])\n",
        "        qc.cx(qr[0],qr[1])\n",
        "        qc.cx(qr[1],qr[0])\n",
        "        qc.cx(qr[3],qr[0])\n",
        "        qc.cx(qr[0],qr[1])\n",
        "        qc.cx(qr[1],qr[0])\n",
        "        \n",
        "        result = execute(qc,backend = qasm_sim, shots=1024).result()\n",
        "        counts = result.get_counts()\n",
        "        \n",
        "        results = [[],[]]\n",
        "        for key,value in counts.items(): \n",
        "            results[0].append(key)\n",
        "            results[1].append(int(value))\n",
        "        s = results[0][np.argmax(np.array(results[1]))]\n",
        "    return r"
      ]
    },
    {
      "cell_type": "code",
      "execution_count": null,
      "metadata": {
        "colab": {},
        "colab_type": "code",
        "id": "YuFDO045DQyS"
      },
      "outputs": [],
      "source": [
        "def shors_breaker(N):\n",
        "    N = int(N)\n",
        "    while True:\n",
        "        a=randint(0,N-1)\n",
        "        g=gcd(a,N)\n",
        "        if g!=1 or N==1:\n",
        "            return g,N//g\n",
        "        else:\n",
        "            r=period(a,N) \n",
        "            if r % 2 != 0:\n",
        "                continue\n",
        "            elif pow(a,r//2,N)==-1:\n",
        "                continue\n",
        "            else:\n",
        "                p=gcd(pow(a,r//2)+1,N)\n",
        "                q=gcd(pow(a,r//2)-1,N)\n",
        "                if p==N or q==N:\n",
        "                    continue\n",
        "                return p,q"
      ]
    },
    {
      "cell_type": "code",
      "execution_count": null,
      "metadata": {
        "colab": {},
        "colab_type": "code",
        "id": "oLfUdM17DQyV"
      },
      "outputs": [],
      "source": [
        "def modular_inverse(a,m): \n",
        "    a = a % m; \n",
        "    for x in range(1, m) : \n",
        "        if ((a * x) % m == 1) : \n",
        "            return x \n",
        "    return 1"
      ]
    },
    {
      "cell_type": "code",
      "execution_count": null,
      "metadata": {
        "colab": {},
        "colab_type": "code",
        "id": "IA-Qn2oBDQyY"
      },
      "outputs": [],
      "source": [
        "N_shor = public_k[1]\n",
        "assert N_shor>0,\"Input must be positive\"\n",
        "p,q = shors_breaker(N_shor)\n",
        "phi = (p-1) * (q-1)  \n",
        "d_shor = modular_inverse(public_k[0], phi) "
      ]
    },
    {
      "cell_type": "markdown",
      "metadata": {
        "colab_type": "text",
        "id": "gy56p-L-DQyb"
      },
      "source": [
        "# Lets Crack our Cipher Text using Shor's Algorithm"
      ]
    },
    {
      "cell_type": "code",
      "execution_count": null,
      "metadata": {
        "colab": {},
        "colab_type": "code",
        "id": "VOcCTXA5DQyc",
        "outputId": "c2a36929-9726-49fc-f596-16d0ff2f1be5"
      },
      "outputs": [
        {
          "name": "stdout",
          "output_type": "stream",
          "text": [
            "Message Cracked using Shors Algorithm: Smaranjit Ghose \n"
          ]
        }
      ],
      "source": [
        "print('Message Cracked using Shors Algorithm: {} '.format(decrypt(cipher_obj, (d_shor,N_shor))))"
      ]
    }
  ],
  "metadata": {
    "colab": {
      "include_colab_link": true,
      "name": "quantum_burglary.ipynb",
      "provenance": []
    },
    "kernelspec": {
      "display_name": "Python 3",
      "language": "python",
      "name": "python3"
    },
    "language_info": {
      "codemirror_mode": {
        "name": "ipython",
        "version": 3
      },
      "file_extension": ".py",
      "mimetype": "text/x-python",
      "name": "python",
      "nbconvert_exporter": "python",
      "pygments_lexer": "ipython3",
      "version": "3.11.9"
    },
    "toc": {
      "base_numbering": 1,
      "nav_menu": {},
      "number_sections": false,
      "sideBar": false,
      "skip_h1_title": false,
      "title_cell": "Table of Contents",
      "title_sidebar": "Contents",
      "toc_cell": false,
      "toc_position": {},
      "toc_section_display": false,
      "toc_window_display": false
    }
  },
  "nbformat": 4,
  "nbformat_minor": 0
}
